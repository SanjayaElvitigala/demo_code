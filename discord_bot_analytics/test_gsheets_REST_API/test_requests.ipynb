{
 "cells": [
  {
   "cell_type": "code",
   "execution_count": 22,
   "metadata": {},
   "outputs": [],
   "source": [
    "import requests\n",
    "import json\n",
    "import pandas as pd\n",
    "import re\n",
    "import datetime\n",
    "import numpy as np"
   ]
  },
  {
   "cell_type": "code",
   "execution_count": null,
   "metadata": {},
   "outputs": [],
   "source": [
    "\n",
    "SHEET_ID = \"\"\n",
    "SHEET_API_KEY = \"\"\n",
    "DATA_RANGE = \"\" # Sheet1!A:C\n"
   ]
  },
  {
   "cell_type": "code",
   "execution_count": null,
   "metadata": {},
   "outputs": [],
   "source": [
    "get_sheets_url= lambda sheet_id, data_range: f\"https://sheets.googleapis.com/v4/spreadsheets/{sheet_id}/values/{data_range}\"\n",
    "\n",
    "PARAMS = {'key': SHEET_API_KEY}\n",
    "config_data_cell = requests.get(url=get_sheets_url(sheet_id=SHEET_ID,\n",
    "                                                data_range=DATA_RANGE), \n",
    "                        params=PARAMS)"
   ]
  },
  {
   "cell_type": "code",
   "execution_count": 25,
   "metadata": {},
   "outputs": [
    {
     "data": {
      "text/plain": [
       "{'range': 'Sheet1!A1', 'majorDimension': 'ROWS', 'values': [['col_A']]}"
      ]
     },
     "execution_count": 25,
     "metadata": {},
     "output_type": "execute_result"
    }
   ],
   "source": [
    "config_data_cell.json()"
   ]
  },
  {
   "cell_type": "code",
   "execution_count": null,
   "metadata": {},
   "outputs": [],
   "source": []
  }
 ],
 "metadata": {
  "kernelspec": {
   "display_name": ".venv",
   "language": "python",
   "name": "python3"
  },
  "language_info": {
   "codemirror_mode": {
    "name": "ipython",
    "version": 3
   },
   "file_extension": ".py",
   "mimetype": "text/x-python",
   "name": "python",
   "nbconvert_exporter": "python",
   "pygments_lexer": "ipython3",
   "version": "3.10.0"
  }
 },
 "nbformat": 4,
 "nbformat_minor": 2
}
